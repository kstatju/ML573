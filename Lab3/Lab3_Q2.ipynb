{
 "cells": [
  {
   "cell_type": "markdown",
   "metadata": {},
   "source": [
    "<h1><center> ComS 573     </center></h1>\n",
    "<h1><center> Lab 3 </center></h1>\n",
    "<h1><center> Kanak Choudhury </center></h1>"
   ]
  },
  {
   "cell_type": "markdown",
   "metadata": {},
   "source": [
    "# Problem 2"
   ]
  },
  {
   "cell_type": "code",
   "execution_count": 12,
   "metadata": {},
   "outputs": [
    {
     "name": "stdout",
     "output_type": "stream",
     "text": [
      "python 3.6.9 |Anaconda, Inc.| (default, Jul 30 2019, 14:00:49) [MSC v.1915 64 bit (AMD64)]\n",
      "numpy 1.16.5\n",
      "sklearn 0.21.3 \n",
      "\n",
      "\n",
      "Accuracies for 5-fold classification:\n",
      "Accuracy for fold 1: 95.45%\n",
      "Accuracy for fold 2: 95.45%\n",
      "Accuracy for fold 3: 96.55%\n",
      "Accuracy for fold 4: 93.02%\n",
      "Accuracy for fold 5: 93.02%\n",
      "\n",
      "\n",
      "Confidence interval is given as following:\n",
      "CI: lower: 0.9190,     upper: 0.9750\n",
      "\n",
      "\n"
     ]
    }
   ],
   "source": [
    "import numpy as np\n",
    "import sklearn\n",
    "from sklearn import tree\n",
    "from sklearn.impute import SimpleImputer\n",
    "from sklearn.model_selection import cross_val_score\n",
    "import sys\n",
    "print('python ' +sys.version)\n",
    "print('numpy '+ np.__version__)\n",
    "print('sklearn '+ sklearn.__version__,'\\n\\n')\n",
    "\n",
    "data = open('house-votes-84.data','r').read().splitlines();\n",
    "dt_size = np.shape(data);\n",
    "dt_x = np.zeros([dt_size[0],16]);\n",
    "dt_y = [];      \n",
    "\n",
    "for i in range(0,dt_size[0]):\n",
    "    aa = data[i].split(',')\n",
    "    dt_y.append('republican' if aa[0]=='republican' else 'democrat')\n",
    "    dt_x[i,:] = [-1 if aa[x+1]=='?' else 1 if aa[x+1]=='y' else 0 for x in range(0,16)]\n",
    "\n",
    "dt_y = np.asarray(dt_y)\n",
    "# impute = SimpleImputer(missing_values=-1, strategy='most_frequent')\n",
    "# impute.fit(dt_x)\n",
    "# dt_x = impute.transform(dt_x)\n",
    "\n",
    "\n",
    "ctree = tree.DecisionTreeClassifier()\n",
    "acc = cross_val_score(ctree, dt_x, dt_y, cv=5)\n",
    "print(\"Accuracies for 5-fold classification:\")\n",
    "for i in range(5):\n",
    "    print('Accuracy for fold %d: %.2f%%' %(i+1,acc[i]*100))\n",
    "\n",
    "print(\"\\n\")\n",
    "\n",
    "ci = np.array([acc.mean()-acc.std()*1.96, acc.mean()+acc.std()*1.96])\n",
    "print(\"Confidence interval is given as following:\") \n",
    "print('CI: lower: %.4f,     upper: %.4f' %(ci[0], ci[1]))\n",
    "print(\"\\n\")\n",
    "\n"
   ]
  },
  {
   "cell_type": "code",
   "execution_count": null,
   "metadata": {},
   "outputs": [],
   "source": []
  }
 ],
 "metadata": {
  "kernelspec": {
   "display_name": "Python 3",
   "language": "python",
   "name": "python3"
  },
  "language_info": {
   "codemirror_mode": {
    "name": "ipython",
    "version": 3
   },
   "file_extension": ".py",
   "mimetype": "text/x-python",
   "name": "python",
   "nbconvert_exporter": "python",
   "pygments_lexer": "ipython3",
   "version": "3.6.9"
  }
 },
 "nbformat": 4,
 "nbformat_minor": 2
}
